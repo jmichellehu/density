{
 "cells": [
  {
   "cell_type": "code",
   "execution_count": 6,
   "metadata": {},
   "outputs": [],
   "source": [
    "import numpy as np\n",
    "\n",
    "# Bulk density model based on climate classes of seasonal snow\n",
    "DOY_i = -92          # specify the day of year of interest (-92 = Oct 1; +181 = June 30)\n",
    "h_i = 1.4           # ith observation of snow_depth in meters\n",
    "\n",
    "snow_classes = [\"Alpine\", \"Maritime\", \"Prairie\", \"Tundra\", \"Taiga\"]\n",
    "rho_maxes = [0.5975, 0.5979, 0.5940, 0.3630, 0.2170]\n",
    "rho_inits = [0.2237, 0.2578, 0.2332, 0.2425, 0.2170]\n",
    "k1s = [0.0012, 0.0010, 0.0016, 0.0029, 0.0000]\n",
    "k2s = [0.0038, 0.0038, 0.0031, 0.0049, 0.0000]"
   ]
  },
  {
   "cell_type": "code",
   "execution_count": 12,
   "metadata": {},
   "outputs": [
    {
     "name": "stdout",
     "output_type": "stream",
     "text": [
      "Alpine\n",
      "0.5975\n",
      "0.2237\n",
      "0.0012\n",
      "0.0038\n"
     ]
    }
   ],
   "source": [
    "# Determine model parameters based on climate snow class\n",
    "# Ephemeral snow lacked sufficient systematic measurements, was excluded\n",
    "# rho_max is the maximum bulk density of the season\n",
    "# rho_init is the initial seasonal bulk density\n",
    "# k1 is the densification parameter for snow_depth\n",
    "# k2 is the densification parameter for DOY\n",
    "climate_class = 1   # values range 1-5 based on snow class\n",
    "\n",
    "snow_class = snow_classes[climate_class-1]\n",
    "rho_max = rho_maxes[climate_class-1]\n",
    "rho_init = rho_inits[climate_class-1]\n",
    "k1 = k1s[climate_class-1]\n",
    "k2 = k2s[climate_class-1]\n",
    "\n",
    "print(snow_class)\n",
    "print(rho_max)\n",
    "print(rho_init)\n",
    "print(k1)\n",
    "print(k2)"
   ]
  },
  {
   "cell_type": "code",
   "execution_count": 8,
   "metadata": {},
   "outputs": [
    {
     "name": "stdout",
     "output_type": "stream",
     "text": [
      "0.17463345860409046\n"
     ]
    }
   ],
   "source": [
    "# t = snow deposition history\n",
    "# rho_b = function of h_s, t, and initial snow layer density\n",
    "rho_b_model = (rho_max - rho_init) * (1-np.exp(-k1 * h_i - k2 * DOY_i)) + rho_init\n",
    "\n",
    "print(rho_b_model)"
   ]
  },
  {
   "cell_type": "code",
   "execution_count": 9,
   "metadata": {},
   "outputs": [
    {
     "name": "stdout",
     "output_type": "stream",
     "text": [
      "SWE from basic calculations using bulk density is 0.17 meters in the Tundra snow class.\n"
     ]
    }
   ],
   "source": [
    "# Basic SWE calculation using snow_depth and bulk_density\n",
    "h_s = 1             # snow_depth in meters\n",
    "rho_w = 1           # density_of_water in grams/cubic cm\n",
    "# rho_b = 0.3         # bulk_density in grams/cubic cm\n",
    "\n",
    "swe = h_s * rho_b_model / rho_w\n",
    "print(\"SWE from basic calculations using bulk density is \"\n",
    "+ str(format(swe, '.2f')) + \" meters in the \" + snow_class + \" snow class.\")\n"
   ]
  }
 ],
 "metadata": {
  "kernelspec": {
   "display_name": "Python [default]",
   "language": "python",
   "name": "python3"
  },
  "language_info": {
   "codemirror_mode": {
    "name": "ipython",
    "version": 3
   },
   "file_extension": ".py",
   "mimetype": "text/x-python",
   "name": "python",
   "nbconvert_exporter": "python",
   "pygments_lexer": "ipython3",
   "version": "3.7.1"
  }
 },
 "nbformat": 4,
 "nbformat_minor": 2
}
